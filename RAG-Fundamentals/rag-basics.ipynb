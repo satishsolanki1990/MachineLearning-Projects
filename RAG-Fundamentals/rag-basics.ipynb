{
 "cells": [
  {
   "cell_type": "code",
   "execution_count": 1,
   "id": "afd1f14b-13cd-43bc-9300-9c47568719cc",
   "metadata": {},
   "outputs": [],
   "source": [
    "# lets install the pre-requisite packages\n",
    "#!pip install -r requirements.txt"
   ]
  },
  {
   "cell_type": "markdown",
   "id": "9df6a824-5f6a-4185-a4f4-1bc5295b9d37",
   "metadata": {},
   "source": [
    "## 1. Embedding of the data"
   ]
  },
  {
   "cell_type": "code",
   "execution_count": 1,
   "id": "31097bd3-6a4c-4ce1-b9d9-02640549d043",
   "metadata": {},
   "outputs": [],
   "source": [
    "import pandas as pd"
   ]
  },
  {
   "cell_type": "code",
   "execution_count": 2,
   "id": "13e8a177-e7ce-434e-b52a-1b91db5ebb1c",
   "metadata": {},
   "outputs": [
    {
     "data": {
      "text/html": [
       "<div>\n",
       "<style scoped>\n",
       "    .dataframe tbody tr th:only-of-type {\n",
       "        vertical-align: middle;\n",
       "    }\n",
       "\n",
       "    .dataframe tbody tr th {\n",
       "        vertical-align: top;\n",
       "    }\n",
       "\n",
       "    .dataframe thead th {\n",
       "        text-align: right;\n",
       "    }\n",
       "</style>\n",
       "<table border=\"1\" class=\"dataframe\">\n",
       "  <thead>\n",
       "    <tr style=\"text-align: right;\">\n",
       "      <th></th>\n",
       "      <th>name</th>\n",
       "      <th>region</th>\n",
       "      <th>variety</th>\n",
       "      <th>rating</th>\n",
       "      <th>notes</th>\n",
       "    </tr>\n",
       "  </thead>\n",
       "  <tbody>\n",
       "    <tr>\n",
       "      <th>0</th>\n",
       "      <td>3 Rings Reserve Shiraz 2004</td>\n",
       "      <td>Barossa Valley, Barossa, South Australia, Aust...</td>\n",
       "      <td>Red Wine</td>\n",
       "      <td>96.0</td>\n",
       "      <td>Vintage Comments : Classic Barossa vintage con...</td>\n",
       "    </tr>\n",
       "    <tr>\n",
       "      <th>1</th>\n",
       "      <td>Abreu Vineyards Cappella 2007</td>\n",
       "      <td>Napa Valley, California</td>\n",
       "      <td>Red Wine</td>\n",
       "      <td>96.0</td>\n",
       "      <td>Cappella is a proprietary blend of two clones ...</td>\n",
       "    </tr>\n",
       "    <tr>\n",
       "      <th>2</th>\n",
       "      <td>Abreu Vineyards Cappella 2010</td>\n",
       "      <td>Napa Valley, California</td>\n",
       "      <td>Red Wine</td>\n",
       "      <td>98.0</td>\n",
       "      <td>Cappella is one of the oldest vineyard sites i...</td>\n",
       "    </tr>\n",
       "    <tr>\n",
       "      <th>3</th>\n",
       "      <td>Abreu Vineyards Howell Mountain 2008</td>\n",
       "      <td>Howell Mountain, Napa Valley, California</td>\n",
       "      <td>Red Wine</td>\n",
       "      <td>96.0</td>\n",
       "      <td>When David purchased this Howell Mountain prop...</td>\n",
       "    </tr>\n",
       "    <tr>\n",
       "      <th>4</th>\n",
       "      <td>Abreu Vineyards Howell Mountain 2009</td>\n",
       "      <td>Howell Mountain, Napa Valley, California</td>\n",
       "      <td>Red Wine</td>\n",
       "      <td>98.0</td>\n",
       "      <td>As a set of wines, it is hard to surpass the f...</td>\n",
       "    </tr>\n",
       "  </tbody>\n",
       "</table>\n",
       "</div>"
      ],
      "text/plain": [
       "                                   name  \\\n",
       "0           3 Rings Reserve Shiraz 2004   \n",
       "1         Abreu Vineyards Cappella 2007   \n",
       "2         Abreu Vineyards Cappella 2010   \n",
       "3  Abreu Vineyards Howell Mountain 2008   \n",
       "4  Abreu Vineyards Howell Mountain 2009   \n",
       "\n",
       "                                              region   variety  rating  \\\n",
       "0  Barossa Valley, Barossa, South Australia, Aust...  Red Wine    96.0   \n",
       "1                            Napa Valley, California  Red Wine    96.0   \n",
       "2                            Napa Valley, California  Red Wine    98.0   \n",
       "3           Howell Mountain, Napa Valley, California  Red Wine    96.0   \n",
       "4           Howell Mountain, Napa Valley, California  Red Wine    98.0   \n",
       "\n",
       "                                               notes  \n",
       "0  Vintage Comments : Classic Barossa vintage con...  \n",
       "1  Cappella is a proprietary blend of two clones ...  \n",
       "2  Cappella is one of the oldest vineyard sites i...  \n",
       "3  When David purchased this Howell Mountain prop...  \n",
       "4  As a set of wines, it is hard to surpass the f...  "
      ]
     },
     "execution_count": 2,
     "metadata": {},
     "output_type": "execute_result"
    }
   ],
   "source": [
    "# read the data\n",
    "raw_data = pd.read_csv('top_rated_wines.csv')\n",
    "raw_data.head()"
   ]
  },
  {
   "cell_type": "code",
   "execution_count": 3,
   "id": "5ac339ac-a3ab-4171-9748-1181f360c344",
   "metadata": {},
   "outputs": [],
   "source": [
    "# data clean and convert into Json record\n",
    "raw_data = raw_data[raw_data['variety'].notna()] # remove any NaN values as it blows up serialization\n",
    "data = raw_data.to_dict('records')"
   ]
  },
  {
   "cell_type": "code",
   "execution_count": 5,
   "id": "5e6ae8bc-bc04-4a22-a9eb-95684f176e99",
   "metadata": {},
   "outputs": [
    {
     "data": {
      "text/plain": [
       "{'name': '3 Rings Reserve Shiraz 2004',\n",
       " 'region': 'Barossa Valley, Barossa, South Australia, Australia',\n",
       " 'variety': 'Red Wine',\n",
       " 'rating': 96.0,\n",
       " 'notes': 'Vintage Comments : Classic Barossa vintage conditions. An average wet Spring followed by extreme heat in early February. Occasional rainfall events kept the vines in good balance up to harvest in late March 2004. Very good quality coupled with good average yields. More than 30 months in wood followed by six months tank maturation of the blend prior to bottling, July 2007. '}"
      ]
     },
     "execution_count": 5,
     "metadata": {},
     "output_type": "execute_result"
    }
   ],
   "source": [
    "data[0]"
   ]
  },
  {
   "cell_type": "markdown",
   "id": "36e7a7dc-6ec7-41d2-b028-3485dc0cce5e",
   "metadata": {},
   "source": [
    "## 2. Embedding and Vectorization"
   ]
  },
  {
   "cell_type": "code",
   "execution_count": 6,
   "id": "e568592d-5da2-4cfa-b4d3-e7cf841e06e4",
   "metadata": {},
   "outputs": [],
   "source": [
    "from qdrant_client import models, QdrantClient\n",
    "from sentence_transformers import SentenceTransformer"
   ]
  },
  {
   "cell_type": "code",
   "execution_count": 7,
   "id": "d2026c33-7ccc-4c2a-bc01-b70749ad2646",
   "metadata": {},
   "outputs": [],
   "source": [
    "# create in-memory local vector database client\n",
    "qdrant = QdrantClient(\":memory:\") # Create in-memory Qdrant instance"
   ]
  },
  {
   "cell_type": "code",
   "execution_count": 8,
   "id": "2aa29ba7-950a-4e8a-a8fa-21b91ef7d57c",
   "metadata": {},
   "outputs": [],
   "source": [
    "# using SentenceTransformer\n",
    "encoder = SentenceTransformer('all-MiniLM-L6-v2') # Model to create embeddings"
   ]
  },
  {
   "cell_type": "code",
   "execution_count": 9,
   "id": "449fd122-6aa4-453a-a20b-c66dacc9f38e",
   "metadata": {},
   "outputs": [
    {
     "data": {
      "text/plain": [
       "384"
      ]
     },
     "execution_count": 9,
     "metadata": {},
     "output_type": "execute_result"
    }
   ],
   "source": [
    "# get embedding dimension from encoder\n",
    "embeddingSize=encoder.get_sentence_embedding_dimension()\n",
    "embeddingSize"
   ]
  },
  {
   "cell_type": "code",
   "execution_count": 10,
   "id": "bf4abfcf-e9d9-48ae-8805-c0f96ecf2bb4",
   "metadata": {},
   "outputs": [
    {
     "data": {
      "text/plain": [
       "True"
      ]
     },
     "execution_count": 10,
     "metadata": {},
     "output_type": "execute_result"
    }
   ],
   "source": [
    "# Create collection to store data\n",
    "qdrant.recreate_collection(\n",
    "    collection_name=\"top_wines\",\n",
    "    vectors_config=models.VectorParams(\n",
    "        size=embeddingSize, # Vector size is defined by used model\n",
    "        distance=models.Distance.COSINE # distance metric\n",
    "    )\n",
    ")"
   ]
  },
  {
   "cell_type": "code",
   "execution_count": 11,
   "id": "f3d7e3e0-dadf-4a28-9c86-e35ccbd0434b",
   "metadata": {},
   "outputs": [],
   "source": [
    "# Now, lets upload the data to vector database\n",
    "# vectorize!\n",
    "qdrant.upload_records(\n",
    "    collection_name=\"top_wines\",\n",
    "    records=[\n",
    "        models.PointStruct(\n",
    "            id=idx,\n",
    "            vector=encoder.encode(doc[\"notes\"]).tolist(),\n",
    "            payload=doc,\n",
    "        ) for idx, doc in enumerate(data) # data is the variable holding all the wines\n",
    "    ]\n",
    ")"
   ]
  },
  {
   "cell_type": "markdown",
   "id": "36bea64d-e73a-44cf-9143-9e7916096d10",
   "metadata": {},
   "source": [
    "## 3. Get Context(Records) for User prompt from vector DB "
   ]
  },
  {
   "cell_type": "code",
   "execution_count": 12,
   "id": "f677042d-87a6-4e64-a009-f3473e2adc87",
   "metadata": {},
   "outputs": [
    {
     "name": "stdout",
     "output_type": "stream",
     "text": [
      "{'name': 'Krug Grande Cuvee Brut (164th Edition) with Gift Box', 'region': 'Champagne, France', 'variety': 'Sparkling & Champagne', 'rating': 96.0, 'notes': 'This is an extraordinary blend of 127 wines from 11 different years, the oldest from 1990 and the youngest from 2008. As you taste it, notes of toasted bread, hazelnut, nougat, barley sugar and jellied fruits may take you by surprise. You may even taste hints of apples still on the tree, flowers in bloom, ripe and dried fruit, almonds, marzipan, gingerbread, sweet spices and even brioche and honey.'} score: 0.6034219618554251\n",
      "{'name': 'Bruno Rocca Barbaresco Rabaja 2000', 'region': 'Barbaresco, Piedmont, Italy', 'variety': 'Red Wine', 'rating': 97.0, 'notes': 'Unbelievable aromas, with rich, ripe plum but also mineral, tobacco and cedar undertones. Full-bodied, with lovely ripe tannins and a unctuous combination of ripe fruit and light toasty oak. Goes on and on. Fabulous. Greatest wine ever from Bruno Rocca. Best after 2007. 1,500 cases made. (JS)'} score: 0.5988580061968838\n",
      "{'name': 'Eyrie Estate Chardonnay 2014', 'region': 'Willamette Valley, Oregon', 'variety': 'White Wine', 'rating': 96.0, 'notes': 'The wines are subtly expressive, elegant, and long-lived.'} score: 0.5969401793061384\n"
     ]
    }
   ],
   "source": [
    "# Now lets get relevent context from vector DB from user_prompt\n",
    "# user_prompt = \"Suggest me an amazing Malbec wine from california\"\n",
    "user_prompt = \"list 3 wines from california\"\n",
    "\n",
    "# Search time for awesome wines!\n",
    "hits = qdrant.search(\n",
    "    collection_name=\"top_wines\",\n",
    "    query_vector=encoder.encode(user_prompt).tolist(),\n",
    "    limit=3\n",
    ")\n",
    "for hit in hits:\n",
    "  print(hit.payload, \"score:\", hit.score)"
   ]
  },
  {
   "cell_type": "code",
   "execution_count": 13,
   "id": "d7e3c80d-f106-4996-acce-14b4d99c1155",
   "metadata": {},
   "outputs": [
    {
     "data": {
      "text/plain": [
       "[{'name': 'Krug Grande Cuvee Brut (164th Edition) with Gift Box',\n",
       "  'region': 'Champagne, France',\n",
       "  'variety': 'Sparkling & Champagne',\n",
       "  'rating': 96.0,\n",
       "  'notes': 'This is an extraordinary blend of 127 wines from 11 different years, the oldest from 1990 and the youngest from 2008. As you taste it, notes of toasted bread, hazelnut, nougat, barley sugar and jellied fruits may take you by surprise. You may even taste hints of apples still on the tree, flowers in bloom, ripe and dried fruit, almonds, marzipan, gingerbread, sweet spices and even brioche and honey.'},\n",
       " {'name': 'Bruno Rocca Barbaresco Rabaja 2000',\n",
       "  'region': 'Barbaresco, Piedmont, Italy',\n",
       "  'variety': 'Red Wine',\n",
       "  'rating': 97.0,\n",
       "  'notes': 'Unbelievable aromas, with rich, ripe plum but also mineral, tobacco and cedar undertones. Full-bodied, with lovely ripe tannins and a unctuous combination of ripe fruit and light toasty oak. Goes on and on. Fabulous. Greatest wine ever from Bruno Rocca. Best after 2007. 1,500 cases made. (JS)'},\n",
       " {'name': 'Eyrie Estate Chardonnay 2014',\n",
       "  'region': 'Willamette Valley, Oregon',\n",
       "  'variety': 'White Wine',\n",
       "  'rating': 96.0,\n",
       "  'notes': 'The wines are subtly expressive, elegant, and long-lived.'}]"
      ]
     },
     "execution_count": 13,
     "metadata": {},
     "output_type": "execute_result"
    }
   ],
   "source": [
    "# use this hits to create a search result\n",
    "# define a variable to hold the search results\n",
    "search_results = [hit.payload for hit in hits]\n",
    "search_results"
   ]
  },
  {
   "cell_type": "markdown",
   "id": "b4afb6c9-d239-4d3a-8b6c-3e8884cf218d",
   "metadata": {},
   "source": [
    "## 4. Generate Response based on Search result "
   ]
  },
  {
   "cell_type": "code",
   "execution_count": 15,
   "id": "ca450171-9352-4812-9c6e-f9beaa4ee371",
   "metadata": {},
   "outputs": [],
   "source": [
    "# Now time to create  a client that connected to local large language model\n",
    "from openai import OpenAI\n",
    "client = OpenAI(\n",
    "    base_url=\"http://127.0.0.1:8080/v1\", # \"http://<Your api-server IP>:port\"\n",
    "    api_key = \"sk-no-key-required\"\n",
    ")\n"
   ]
  },
  {
   "cell_type": "code",
   "execution_count": 17,
   "id": "baf52012-92a3-482a-a8f6-74c7461e1d63",
   "metadata": {},
   "outputs": [
    {
     "name": "stdout",
     "output_type": "stream",
     "text": [
      "ChatCompletionMessage(content=\"Here are three amazing wines from California:\\n\\n1. 2016 Domaine Carneros Le Reve Blanc de Blancs Brut Champagne - This wine is made from 100% Chardonnay grapes and has a rating of 95. It offers notes of toasted brioche, ripe pear, and a hint of citrus. It is a perfect pairing for a special occasion.\\n2. 2018 Flowers Sonoma Coast Pinot Noir - This wine is made from 100% Pinot Noir grapes and has a rating of 94. It offers notes of red fruits, earth, and a hint of spice. It is a great wine for those who enjoy full-bodied reds.\\n3. 2019 St. Joseph's Crozes-Hermitage Syrah - This wine is made from 100% Syrah grapes and has a rating of 93. It offers notes of dark fruits, earth, and a hint of spice. It is a great wine for those who enjoy bold and full-bodied reds.\", role='assistant', function_call=None, tool_calls=None)\n"
     ]
    }
   ],
   "source": [
    "# using search result, lets LLM to generate response based on content \"search_results\"\n",
    "completion = client.chat.completions.create(\n",
    "    model=\"llama.cpp\",\n",
    "    messages=[\n",
    "        {\"role\": \"system\", \"content\": \"You are chatbot, a wine specialist. Your top priority is to help guide users into selecting amazing wine and guide them with their requests.\"},\n",
    "        {\"role\": \"user\", \"content\": user_prompt},\n",
    "        {\"role\": \"assistant\", \"content\": str(search_results)}\n",
    "    ]\n",
    ")\n",
    "print(completion.choices[0].message)"
   ]
  },
  {
   "cell_type": "code",
   "execution_count": null,
   "id": "f7b61d09-2827-44f8-b138-535b3ec188dc",
   "metadata": {},
   "outputs": [],
   "source": []
  }
 ],
 "metadata": {
  "kernelspec": {
   "display_name": "Python 3 (ipykernel)",
   "language": "python",
   "name": "python3"
  },
  "language_info": {
   "codemirror_mode": {
    "name": "ipython",
    "version": 3
   },
   "file_extension": ".py",
   "mimetype": "text/x-python",
   "name": "python",
   "nbconvert_exporter": "python",
   "pygments_lexer": "ipython3",
   "version": "3.11.5"
  }
 },
 "nbformat": 4,
 "nbformat_minor": 5
}
